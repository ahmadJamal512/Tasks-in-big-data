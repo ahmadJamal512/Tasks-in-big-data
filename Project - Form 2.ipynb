{
 "cells": [
  {
   "cell_type": "markdown",
   "id": "fe497ddd",
   "metadata": {},
   "source": [
    "# Spark Project: Sales & Customer Analysis"
   ]
  },
  {
   "cell_type": "markdown",
   "id": "6cd72cf0",
   "metadata": {},
   "source": [
    "📁 Datasets' Description (CSV Format)\n",
    "\n",
    "📄 <b>Customers (customers.csv)\n",
    "customer_id,name,region,signup_date\n",
    "\n",
    "CustomerID --> Unique ID of the customer\n",
    "\n",
    "CustomerName --> Full name of the customer\n",
    "\n",
    "RegionID\t--> Region ID indicating where the customer is located\n",
    "\n",
    "\n",
    "📄 <b>sales.csv — Sales Transactions\n",
    "sale_id, customer_id, product_id, quantity,price,sale_date\n",
    "\n",
    "SaleID\t   -->     Unique ID for the sale transaction\n",
    "\n",
    "CustomerID -->      ID of the customer who made the purchase\n",
    "\n",
    "ProductID\t-->     ID of the product being sold\n",
    "\n",
    "Quantity\t-->     Number of units sold\n",
    "\n",
    "Price\t   -->      Price per unit of the product\n",
    "\n",
    "Date\t   -->      Date of the transaction (format: YYYY-MM-DD)\n",
    "\n",
    "\n",
    "📄 <b>Products (products.csv)\n",
    "\n",
    "product_id,product_name,category\n",
    "\n",
    "ProductID -->\tUnique ID of the product\n",
    "\n",
    "ProductName\t--> Name of the product\n",
    "\n",
    "Category\t--> Category or type of the product\n",
    "\n",
    "📄 <b>Regions (regions.csv)\n",
    "\n",
    "region,manager,region_code\n",
    "\n",
    "\n",
    "RegionID -->\tUnique ID for the region\n",
    "\n",
    "Country\t--> Country name where the region is located\n",
    "\n",
    "RegionName\t--> Full name of the region (e.g., \"North America\", \"Western Europe\")\n",
    "\n",
    "\n"
   ]
  },
  {
   "cell_type": "markdown",
   "id": "ad7e0780",
   "metadata": {},
   "source": [
    "### Task 1: Identify customers who bought more than ten distinct product\n",
    "     \n",
    "  Save the result in a file."
   ]
  },
  {
   "cell_type": "markdown",
   "id": "c1a073b0",
   "metadata": {},
   "source": [
    "### Task 3: Top-Selling Product of Each Month\n",
    "Find the product that sold the highest quantity in each month across all sales data. \n",
    "Save the result in a file."
   ]
  },
  {
   "cell_type": "markdown",
   "id": "639bfa2f",
   "metadata": {},
   "source": [
    "### Task 1: Number of Products Sold per Category\n",
    "\n",
    "Calculate how many products were sold in each product category. This tells us which types of products were the most frequently purchased, not based on money, but by quantity.\n",
    "\n",
    "Save the result in a file."
   ]
  },
  {
   "cell_type": "code",
   "execution_count": null,
   "id": "ea05bc34",
   "metadata": {},
   "outputs": [],
   "source": []
  },
  {
   "cell_type": "code",
   "execution_count": null,
   "id": "ae4fe61c",
   "metadata": {},
   "outputs": [],
   "source": []
  }
 ],
 "metadata": {
  "kernelspec": {
   "display_name": "Python 3 (ipykernel)",
   "language": "python",
   "name": "python3"
  },
  "language_info": {
   "codemirror_mode": {
    "name": "ipython",
    "version": 3
   },
   "file_extension": ".py",
   "mimetype": "text/x-python",
   "name": "python",
   "nbconvert_exporter": "python",
   "pygments_lexer": "ipython3",
   "version": "3.9.7"
  }
 },
 "nbformat": 4,
 "nbformat_minor": 5
}
