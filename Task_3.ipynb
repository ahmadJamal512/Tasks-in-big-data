{
  "nbformat": 4,
  "nbformat_minor": 0,
  "metadata": {
    "colab": {
      "provenance": []
    },
    "kernelspec": {
      "name": "python3",
      "display_name": "Python 3"
    },
    "language_info": {
      "name": "python"
    }
  },
  "cells": [
    {
      "cell_type": "code",
      "execution_count": null,
      "metadata": {
        "colab": {
          "base_uri": "https://localhost:8080/"
        },
        "id": "iJd-1SCY7JWr",
        "outputId": "924086b5-4ec1-4f20-aca7-57954d06ab71"
      },
      "outputs": [
        {
          "output_type": "stream",
          "name": "stdout",
          "text": [
            "Requirement already satisfied: pyspark in /usr/local/lib/python3.11/dist-packages (3.5.1)\n",
            "Requirement already satisfied: py4j==0.10.9.7 in /usr/local/lib/python3.11/dist-packages (from pyspark) (0.10.9.7)\n"
          ]
        }
      ],
      "source": [
        "!pip install pyspark"
      ]
    },
    {
      "cell_type": "code",
      "source": [
        "from pyspark import SparkContext,SparkConf\n",
        "from datetime import datetime"
      ],
      "metadata": {
        "id": "8XqbIlb37b0g"
      },
      "execution_count": null,
      "outputs": []
    },
    {
      "cell_type": "code",
      "source": [
        "conf=SparkConf().setAppName(\"TestApp\").setMaster(\"local[*]\")\n",
        "sc=SparkContext(conf=conf)"
      ],
      "metadata": {
        "id": "w0VO_qxd7oOT"
      },
      "execution_count": null,
      "outputs": []
    },
    {
      "cell_type": "code",
      "source": [
        "productsRdd=sc.textFile(\"/content/products.csv\")"
      ],
      "metadata": {
        "id": "Lbk-zxrc7t7Y"
      },
      "execution_count": null,
      "outputs": []
    },
    {
      "cell_type": "code",
      "source": [
        "productsListRdd=productsRdd.map(lambda x:x.split(\",\"))"
      ],
      "metadata": {
        "id": "YiuoTanB7xlc"
      },
      "execution_count": null,
      "outputs": []
    },
    {
      "cell_type": "code",
      "source": [
        "productsListRdd.take(5)"
      ],
      "metadata": {
        "colab": {
          "base_uri": "https://localhost:8080/"
        },
        "id": "BsyWXtvE8rpq",
        "outputId": "1804c100-4d8b-45af-f083-eadfea298db0"
      },
      "execution_count": null,
      "outputs": [
        {
          "output_type": "execute_result",
          "data": {
            "text/plain": [
              "[['product_id', 'product_name', 'category'],\n",
              " ['P0001', 'Product_1', 'Toys'],\n",
              " ['P0002', 'Product_2', 'Electronics'],\n",
              " ['P0003', 'Product_3', 'Electronics'],\n",
              " ['P0004', 'Product_4', 'Toys']]"
            ]
          },
          "metadata": {},
          "execution_count": 13
        }
      ]
    },
    {
      "cell_type": "code",
      "source": [
        "headerProducts=productsListRdd.first()\n",
        "productsListRdd1=productsListRdd.filter(lambda x:x !=headerProducts)"
      ],
      "metadata": {
        "id": "SLkGplZH9PIM"
      },
      "execution_count": null,
      "outputs": []
    },
    {
      "cell_type": "code",
      "source": [
        "productsListRdd1.take(5)"
      ],
      "metadata": {
        "colab": {
          "base_uri": "https://localhost:8080/"
        },
        "id": "ZNx1x85H90Tt",
        "outputId": "396e13f9-ee8b-4080-d186-6707c16de800"
      },
      "execution_count": null,
      "outputs": [
        {
          "output_type": "execute_result",
          "data": {
            "text/plain": [
              "[['P0001', 'Product_1', 'Toys'],\n",
              " ['P0002', 'Product_2', 'Electronics'],\n",
              " ['P0003', 'Product_3', 'Electronics'],\n",
              " ['P0004', 'Product_4', 'Toys'],\n",
              " ['P0005', 'Product_5', 'Books']]"
            ]
          },
          "metadata": {},
          "execution_count": 17
        }
      ]
    },
    {
      "cell_type": "code",
      "source": [
        "pairProductRdd=productsListRdd1.map(lambda x:(x[0],x[2]))"
      ],
      "metadata": {
        "id": "RFbYN-ZT94rW"
      },
      "execution_count": null,
      "outputs": []
    },
    {
      "cell_type": "code",
      "source": [
        "pairProductRdd.take(5)"
      ],
      "metadata": {
        "colab": {
          "base_uri": "https://localhost:8080/"
        },
        "id": "i-mMvDme-eEl",
        "outputId": "473aa815-c42e-46f0-c9dc-f8aab9d7a261"
      },
      "execution_count": null,
      "outputs": [
        {
          "output_type": "execute_result",
          "data": {
            "text/plain": [
              "[('P0001', 'Toys'),\n",
              " ('P0002', 'Electronics'),\n",
              " ('P0003', 'Electronics'),\n",
              " ('P0004', 'Toys'),\n",
              " ('P0005', 'Books')]"
            ]
          },
          "metadata": {},
          "execution_count": 23
        }
      ]
    },
    {
      "cell_type": "code",
      "source": [],
      "metadata": {
        "id": "8nhuf3Qe-pAB"
      },
      "execution_count": null,
      "outputs": []
    },
    {
      "cell_type": "code",
      "source": [],
      "metadata": {
        "id": "pK8easEQ-ouG"
      },
      "execution_count": null,
      "outputs": []
    },
    {
      "cell_type": "code",
      "source": [
        "salesRdd=sc.textFile(\"/content/sales.csv\")"
      ],
      "metadata": {
        "id": "LhOIoakX94fh"
      },
      "execution_count": null,
      "outputs": []
    },
    {
      "cell_type": "code",
      "source": [
        "salesListRdd=salesRdd.map(lambda x:x.split(\",\"))"
      ],
      "metadata": {
        "id": "IFK7LQGN9_vF"
      },
      "execution_count": null,
      "outputs": []
    },
    {
      "cell_type": "code",
      "source": [
        "headerSales=salesListRdd.first()\n",
        "salesListRdd1=salesListRdd.filter(lambda x:x !=headerSales)"
      ],
      "metadata": {
        "id": "X9GOAXmL-Dts"
      },
      "execution_count": null,
      "outputs": []
    },
    {
      "cell_type": "code",
      "source": [
        "salesListRdd1.take(5)"
      ],
      "metadata": {
        "colab": {
          "base_uri": "https://localhost:8080/"
        },
        "id": "rFqtI2Wj-I_B",
        "outputId": "11214b4a-a079-48a2-a035-29217ff2630a"
      },
      "execution_count": null,
      "outputs": [
        {
          "output_type": "execute_result",
          "data": {
            "text/plain": [
              "[['1', '103', 'P0363', '3', '98.89', '2025-01-20'],\n",
              " ['2', '436', 'P0088', '5', '179.75', '2024-12-17'],\n",
              " ['3', '349', 'P0139', '1', '96.37', '2024-09-27'],\n",
              " ['4', '271', 'P0120', '3', '42.19', '2025-01-22'],\n",
              " ['5', '107', 'P0313', '5', '30.67', '2025-02-19']]"
            ]
          },
          "metadata": {},
          "execution_count": 21
        }
      ]
    },
    {
      "cell_type": "code",
      "source": [
        "pairSalesRdd=salesListRdd1.map(lambda x:(x[2],x[3]))"
      ],
      "metadata": {
        "id": "nOi_evU_-UFC"
      },
      "execution_count": null,
      "outputs": []
    },
    {
      "cell_type": "code",
      "source": [
        "pairSalesRdd.take(5)"
      ],
      "metadata": {
        "colab": {
          "base_uri": "https://localhost:8080/"
        },
        "id": "-In3nFT8-Tl9",
        "outputId": "777cee2a-014b-4165-ce2a-1353bdc414df"
      },
      "execution_count": null,
      "outputs": [
        {
          "output_type": "execute_result",
          "data": {
            "text/plain": [
              "[('P0363', '3'),\n",
              " ('P0088', '5'),\n",
              " ('P0139', '1'),\n",
              " ('P0120', '3'),\n",
              " ('P0313', '5')]"
            ]
          },
          "metadata": {},
          "execution_count": 26
        }
      ]
    },
    {
      "cell_type": "code",
      "source": [
        "countQuantity=pairSalesRdd.map(lambda x:(x[0],int(x[1])))\\\n",
        ".reduceByKey(lambda x,y:x+y)"
      ],
      "metadata": {
        "id": "JVgXbG5X_AtI"
      },
      "execution_count": null,
      "outputs": []
    },
    {
      "cell_type": "code",
      "source": [
        "countQuantity.take(5)"
      ],
      "metadata": {
        "colab": {
          "base_uri": "https://localhost:8080/"
        },
        "id": "PZ3JAyW4_Zgk",
        "outputId": "08904c10-f5e8-4440-c026-2bdcaf3bfc07"
      },
      "execution_count": null,
      "outputs": [
        {
          "output_type": "execute_result",
          "data": {
            "text/plain": [
              "[('P0088', 3730),\n",
              " ('P0139', 3622),\n",
              " ('P0225', 3698),\n",
              " ('P0411', 3605),\n",
              " ('P0201', 3482)]"
            ]
          },
          "metadata": {},
          "execution_count": 40
        }
      ]
    },
    {
      "cell_type": "code",
      "source": [
        "joinRdd=countQuantity.join(pairProductRdd).map(lambda x:(x[1][1],x[1][0])).reduceByKey(lambda x,y:x+y)"
      ],
      "metadata": {
        "id": "LGvuJbPU_daY"
      },
      "execution_count": null,
      "outputs": []
    },
    {
      "cell_type": "code",
      "source": [
        "joinRdd.take(15)"
      ],
      "metadata": {
        "colab": {
          "base_uri": "https://localhost:8080/"
        },
        "id": "xo4PdCclBjBp",
        "outputId": "908ac759-3995-40ee-e85b-f06eb1a904d3"
      },
      "execution_count": null,
      "outputs": [
        {
          "output_type": "execute_result",
          "data": {
            "text/plain": [
              "[('Toys', 3730),\n",
              " ('Clothing', 3622),\n",
              " ('Toys', 3698),\n",
              " ('Toys', 3605),\n",
              " ('Electronics', 3482),\n",
              " ('Toys', 3591),\n",
              " ('Clothing', 3591),\n",
              " ('Books', 3540),\n",
              " ('Electronics', 3602),\n",
              " ('Clothing', 3751),\n",
              " ('Electronics', 3824),\n",
              " ('Electronics', 3553),\n",
              " ('Books', 3594),\n",
              " ('Toys', 3823),\n",
              " ('Toys', 3769)]"
            ]
          },
          "metadata": {},
          "execution_count": 57
        }
      ]
    },
    {
      "cell_type": "code",
      "source": [
        "joinRdd.saveAsTextFile('/content/most frequently')"
      ],
      "metadata": {
        "id": "AJMxU80uB3vS"
      },
      "execution_count": null,
      "outputs": []
    }
  ]
}