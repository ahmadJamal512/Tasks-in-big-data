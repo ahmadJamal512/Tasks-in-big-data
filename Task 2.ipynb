{
  "nbformat": 4,
  "nbformat_minor": 0,
  "metadata": {
    "colab": {
      "provenance": []
    },
    "kernelspec": {
      "name": "python3",
      "display_name": "Python 3"
    },
    "language_info": {
      "name": "python"
    }
  },
  "cells": [
    {
      "cell_type": "code",
      "execution_count": 1,
      "metadata": {
        "id": "KLzt9BtJgB1L",
        "colab": {
          "base_uri": "https://localhost:8080/"
        },
        "outputId": "55760993-ba41-4f5b-d432-3e0101417f2d"
      },
      "outputs": [
        {
          "output_type": "stream",
          "name": "stdout",
          "text": [
            "Requirement already satisfied: pyspark in /usr/local/lib/python3.11/dist-packages (3.5.1)\n",
            "Requirement already satisfied: py4j==0.10.9.7 in /usr/local/lib/python3.11/dist-packages (from pyspark) (0.10.9.7)\n"
          ]
        }
      ],
      "source": [
        "!pip install pyspark"
      ]
    },
    {
      "cell_type": "code",
      "source": [
        "from pyspark import SparkContext,SparkConf\n",
        "from datetime import datetime"
      ],
      "metadata": {
        "id": "l77FLitf6uUp"
      },
      "execution_count": 2,
      "outputs": []
    },
    {
      "cell_type": "code",
      "source": [
        "conf=SparkConf().setAppName(\"TestApp\").setMaster(\"local\")\n",
        "sc=SparkContext(conf=conf)"
      ],
      "metadata": {
        "id": "yQn3OOLT6zQq"
      },
      "execution_count": 3,
      "outputs": []
    },
    {
      "cell_type": "code",
      "source": [],
      "metadata": {
        "id": "q7rq_t-K7kqS"
      },
      "execution_count": null,
      "outputs": []
    },
    {
      "cell_type": "code",
      "source": [],
      "metadata": {
        "id": "4-r3Ic349dfD"
      },
      "execution_count": null,
      "outputs": []
    },
    {
      "cell_type": "code",
      "source": [
        "productsRdd=sc.textFile('/content/products.csv')"
      ],
      "metadata": {
        "id": "EIkArllR8ARI"
      },
      "execution_count": 4,
      "outputs": []
    },
    {
      "cell_type": "code",
      "source": [
        "productsListRdd=productsRdd.map(lambda x:x.split(','))"
      ],
      "metadata": {
        "id": "TsNUVyCH8HLt"
      },
      "execution_count": 5,
      "outputs": []
    },
    {
      "cell_type": "code",
      "source": [
        "productsListRdd.take(5)"
      ],
      "metadata": {
        "colab": {
          "base_uri": "https://localhost:8080/"
        },
        "id": "AE4FMZWH8QJA",
        "outputId": "ba3e3028-93eb-4aea-dbf1-b89ec8fc3820"
      },
      "execution_count": 6,
      "outputs": [
        {
          "output_type": "execute_result",
          "data": {
            "text/plain": [
              "[['product_id', 'product_name', 'category'],\n",
              " ['P0001', 'Product_1', 'Toys'],\n",
              " ['P0002', 'Product_2', 'Electronics'],\n",
              " ['P0003', 'Product_3', 'Electronics'],\n",
              " ['P0004', 'Product_4', 'Toys']]"
            ]
          },
          "metadata": {},
          "execution_count": 6
        }
      ]
    },
    {
      "cell_type": "code",
      "source": [
        "header_products = productsListRdd.first()\n",
        "productsDataRdd = productsListRdd.filter(lambda row: row != header_products)"
      ],
      "metadata": {
        "id": "dahzWVgy0rZV"
      },
      "execution_count": 45,
      "outputs": []
    },
    {
      "cell_type": "code",
      "source": [
        "productsPairRdd=productsDataRdd.map(lambda x:(x[0],x[1]))"
      ],
      "metadata": {
        "id": "9_NC_BBY8TZ_"
      },
      "execution_count": 46,
      "outputs": []
    },
    {
      "cell_type": "code",
      "source": [
        "productsPairRdd.take(5)"
      ],
      "metadata": {
        "colab": {
          "base_uri": "https://localhost:8080/"
        },
        "id": "g-KaLP9w8h-F",
        "outputId": "2d0ec39b-cd74-443c-d530-a79006217916"
      },
      "execution_count": 47,
      "outputs": [
        {
          "output_type": "execute_result",
          "data": {
            "text/plain": [
              "[('P0001', 'Product_1'),\n",
              " ('P0002', 'Product_2'),\n",
              " ('P0003', 'Product_3'),\n",
              " ('P0004', 'Product_4'),\n",
              " ('P0005', 'Product_5')]"
            ]
          },
          "metadata": {},
          "execution_count": 47
        }
      ]
    },
    {
      "cell_type": "code",
      "source": [],
      "metadata": {
        "id": "KDGAQgYM8mMy"
      },
      "execution_count": null,
      "outputs": []
    },
    {
      "cell_type": "code",
      "source": [],
      "metadata": {
        "id": "RgvYnieK8mDf"
      },
      "execution_count": null,
      "outputs": []
    },
    {
      "cell_type": "code",
      "source": [
        "salesRdd=sc.textFile('/content/sales.csv')"
      ],
      "metadata": {
        "id": "BflZxyuX8mlI"
      },
      "execution_count": 14,
      "outputs": []
    },
    {
      "cell_type": "code",
      "source": [
        "salesListRdd=salesRdd.map(lambda x:x.split(','))"
      ],
      "metadata": {
        "id": "3XeQ7QBR8p3d"
      },
      "execution_count": 15,
      "outputs": []
    },
    {
      "cell_type": "code",
      "source": [
        "salesListRdd.take(5)"
      ],
      "metadata": {
        "colab": {
          "base_uri": "https://localhost:8080/"
        },
        "id": "kVWzSWgP8ts0",
        "outputId": "8b1df85a-083f-4ee8-817c-8c7f76db0be4"
      },
      "execution_count": 16,
      "outputs": [
        {
          "output_type": "execute_result",
          "data": {
            "text/plain": [
              "[['sale_id', 'customer_id', 'product_id', 'quantity', 'price', 'sale_date'],\n",
              " ['1', '103', 'P0363', '3', '98.89', '2025-01-20'],\n",
              " ['2', '436', 'P0088', '5', '179.75', '2024-12-17'],\n",
              " ['3', '349', 'P0139', '1', '96.37', '2024-09-27'],\n",
              " ['4', '271', 'P0120', '3', '42.19', '2025-01-22']]"
            ]
          },
          "metadata": {},
          "execution_count": 16
        }
      ]
    },
    {
      "cell_type": "code",
      "source": [
        "header_sales = salesListRdd.first()\n",
        "salesDataRdd = salesListRdd.filter(lambda x: x != header_sales)"
      ],
      "metadata": {
        "id": "5sA8XhY8yCYA"
      },
      "execution_count": 26,
      "outputs": []
    },
    {
      "cell_type": "code",
      "source": [
        "monthlyCounts = salesDataRdd.map(lambda x: (datetime.strptime(x[5], \"%Y-%m-%d\").strftime(\"%Y-%m\"),(x[2], int(x[3]))))"
      ],
      "metadata": {
        "id": "X0e1d0UGj1zQ"
      },
      "execution_count": 61,
      "outputs": []
    },
    {
      "cell_type": "code",
      "source": [
        "monthlyCounts.take(5)"
      ],
      "metadata": {
        "colab": {
          "base_uri": "https://localhost:8080/"
        },
        "id": "PHxAmOEsytj2",
        "outputId": "6d323db6-de45-400c-f301-101a9a2480e5"
      },
      "execution_count": 62,
      "outputs": [
        {
          "output_type": "execute_result",
          "data": {
            "text/plain": [
              "[('2025-01', ('P0363', 3)),\n",
              " ('2024-12', ('P0088', 5)),\n",
              " ('2024-09', ('P0139', 1)),\n",
              " ('2025-01', ('P0120', 3)),\n",
              " ('2025-02', ('P0313', 5))]"
            ]
          },
          "metadata": {},
          "execution_count": 62
        }
      ]
    },
    {
      "cell_type": "code",
      "source": [
        "mPQuantity = monthlyCounts.map(lambda x: ((x[0], x[1][0]), x[1][1])) \\\n",
        "                                         .reduceByKey(lambda a, b: a + b)"
      ],
      "metadata": {
        "id": "DHU3Y9-xklCF"
      },
      "execution_count": 64,
      "outputs": []
    },
    {
      "cell_type": "code",
      "source": [
        "mPQuantity.take(5)"
      ],
      "metadata": {
        "colab": {
          "base_uri": "https://localhost:8080/"
        },
        "id": "vlJ2RfoW3TTC",
        "outputId": "5019b211-08e3-4bfb-820a-a4d389721dc2"
      },
      "execution_count": 65,
      "outputs": [
        {
          "output_type": "execute_result",
          "data": {
            "text/plain": [
              "[(('2025-01', 'P0363'), 283),\n",
              " (('2024-12', 'P0088'), 337),\n",
              " (('2024-09', 'P0139'), 338),\n",
              " (('2025-01', 'P0120'), 306),\n",
              " (('2025-02', 'P0313'), 269)]"
            ]
          },
          "metadata": {},
          "execution_count": 65
        }
      ]
    },
    {
      "cell_type": "code",
      "source": [
        "topSellingPPM = mPQuantity.map(lambda x: (x[0][0], (x[1], x[0][1]))) \\\n",
        "                                                  .reduceByKey(lambda a, b: a if a[0] > b[0] else b)"
      ],
      "metadata": {
        "id": "p-Qn2SgR3Wb1"
      },
      "execution_count": 67,
      "outputs": []
    },
    {
      "cell_type": "code",
      "source": [
        "topSellingPPM.take(5)"
      ],
      "metadata": {
        "colab": {
          "base_uri": "https://localhost:8080/"
        },
        "id": "lpibXQm34C8B",
        "outputId": "a842738a-1524-416c-8f9c-811d2c039686"
      },
      "execution_count": 68,
      "outputs": [
        {
          "output_type": "execute_result",
          "data": {
            "text/plain": [
              "[('2025-01', (403, 'P0482')),\n",
              " ('2024-12', (417, 'P0067')),\n",
              " ('2024-09', (422, 'P0204')),\n",
              " ('2025-02', (371, 'P0267')),\n",
              " ('2024-10', (410, 'P0144'))]"
            ]
          },
          "metadata": {},
          "execution_count": 68
        }
      ]
    },
    {
      "cell_type": "code",
      "source": [
        "topPermonth=topSellingPPM.map(lambda x:(x[1][1],(x[0],x[1][0])))"
      ],
      "metadata": {
        "id": "f4ha4rDN55UF"
      },
      "execution_count": 74,
      "outputs": []
    },
    {
      "cell_type": "code",
      "source": [
        "joinedRDD = topPermonth.join(productsPairRdd)"
      ],
      "metadata": {
        "id": "QriFZFFI6D7r"
      },
      "execution_count": 75,
      "outputs": []
    },
    {
      "cell_type": "code",
      "source": [
        "finalResultRdd = joinedRDD.map(lambda x: (x[1][0][0], x[1][1], x[1][0][1]))"
      ],
      "metadata": {
        "id": "gWm0_WxE6L1P"
      },
      "execution_count": 76,
      "outputs": []
    },
    {
      "cell_type": "code",
      "source": [
        "finalResultRdd.take(5)"
      ],
      "metadata": {
        "colab": {
          "base_uri": "https://localhost:8080/"
        },
        "id": "zUvZaYb76X0E",
        "outputId": "acbf0138-a11b-421b-e672-2ab50f91c7ff"
      },
      "execution_count": 77,
      "outputs": [
        {
          "output_type": "execute_result",
          "data": {
            "text/plain": [
              "[('2025-01', 'Product_482', 403),\n",
              " ('2024-09', 'Product_204', 422),\n",
              " ('2025-02', 'Product_267', 371),\n",
              " ('2024-05', 'Product_393', 150),\n",
              " ('2024-08', 'Product_449', 390)]"
            ]
          },
          "metadata": {},
          "execution_count": 77
        }
      ]
    },
    {
      "cell_type": "code",
      "source": [
        "finalResultRdd.saveAsTextFile('/content/top_selling_products_by_month')"
      ],
      "metadata": {
        "id": "UO_SPtxJ6yX8"
      },
      "execution_count": 78,
      "outputs": []
    }
  ]
}